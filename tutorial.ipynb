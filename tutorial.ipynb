{
 "cells": [
  {
   "attachments": {},
   "cell_type": "markdown",
   "metadata": {},
   "source": [
    "# Interactive bot demo using LLMs and MLRun"
   ]
  },
  {
   "cell_type": "code",
   "execution_count": null,
   "metadata": {},
   "outputs": [],
   "source": [
    "import os\n",
    "import mlrun\n",
    "import openai\n",
    "\n",
    "# Copy mlrun.env and populate with relevant credentials\n",
    "ENV_FILE = \"mlrun.env\"\n",
    "\n",
    "mlrun.set_env_from_file(ENV_FILE)\n",
    "project = mlrun.get_or_create_project(\"llamagpt\")\n",
    "\n",
    "openai.api_key = os.getenv(\"OPENAI_API_KEY\")\n",
    "openai.api_base = os.getenv(\"OPENAI_API_BASE\")"
   ]
  },
  {
   "attachments": {},
   "cell_type": "markdown",
   "metadata": {},
   "source": [
    "### Index Documents"
   ]
  },
  {
   "cell_type": "code",
   "execution_count": null,
   "metadata": {},
   "outputs": [],
   "source": [
    "\n",
    "from src import LlmIndex\n",
    "\n",
    "llmi = LlmIndex(additional_tools=[\"llm-math\"])\n",
    "\n",
    "llmi.add_index(\n",
    "    index_name=\"llama\",\n",
    "    documents=llmi.load_documents(documents_dir=\"data/text\"),\n",
    "    summary=\"useful for questions about llamas\"\n",
    ")\n",
    "llmi.add_index(\n",
    "    index_name=\"strawberries\",\n",
    "    documents=llmi.load_documents(loader=\"WikipediaReader\", pages=['Strawberry']),\n",
    "    summary=\"useful for questions about strawberries\"\n",
    ")\n",
    "\n",
    "llmi.add_index(\n",
    "    index_name=\"mlops\",\n",
    "    documents=llmi.load_documents(\n",
    "        loader=\"BeautifulSoupWebReader\",\n",
    "        urls=['https://www.iguazio.com/blog/concept-drift-deep-dive-how-to-build-a-drift-aware-ml-system/']\n",
    "        ),\n",
    "    summary=\"useful for questions about mlops, machine learning, or concept drift\"\n",
    ")\n"
   ]
  },
  {
   "cell_type": "code",
   "execution_count": null,
   "metadata": {},
   "outputs": [],
   "source": [
    "\n",
    "llmi.persist(persist_dir=\"./storage\")"
   ]
  },
  {
   "cell_type": "code",
   "execution_count": null,
   "metadata": {},
   "outputs": [],
   "source": [
    "llmi.persist(persist_dir=\"v3io:///bigdata/storage\")"
   ]
  },
  {
   "attachments": {},
   "cell_type": "markdown",
   "metadata": {},
   "source": [
    "### Query Documents"
   ]
  },
  {
   "cell_type": "code",
   "execution_count": null,
   "metadata": {},
   "outputs": [],
   "source": [
    "# load the docs & indexes from storage and run queries\n",
    "llmi = LlmIndex(additional_tools=[\"llm-math\"])\n",
    "llmi.load_storage()\n",
    "llmi.get_catalog()"
   ]
  },
  {
   "cell_type": "code",
   "execution_count": null,
   "metadata": {},
   "outputs": [],
   "source": [
    "print(llmi.query(\"How tall are llamas?\"))\n",
    "print(llmi.query(\"Which countries produce strawberries?\"))\n",
    "print(llmi.query(\"What is MLOps?\"))\n",
    "print(llmi.query(\"What 5 times the average weight of a llama?\"))"
   ]
  },
  {
   "attachments": {},
   "cell_type": "markdown",
   "metadata": {},
   "source": [
    "### Serving Graph"
   ]
  },
  {
   "cell_type": "code",
   "execution_count": null,
   "metadata": {},
   "outputs": [],
   "source": [
    "fn = mlrun.code_to_function(\n",
    "    name=\"llama\",\n",
    "    filename=\"src/llmindex.py\",\n",
    "    kind=\"serving\",\n",
    "    image=\"mlrun/mlrun:1.3.2\",\n",
    "    requirements=[\"llama-index==0.6.26\", \"langchain==0.0.200\"]\n",
    ")\n",
    "graph = fn.set_topology(\"flow\", engine=\"async\")\n",
    "graph.add_step(name=\"llama\", class_name=\"QueryLlamaGpt\", persist_dir=\"v3io:///bigdata/storage\", additional_tools=[\"llm-math\"], full_event=True).respond()\n",
    "fn.set_env(\"OPENAI_API_KEY\", os.getenv(\"OPENAI_API_KEY\"))\n",
    "fn.set_env(\"OPENAI_API_BASE\", os.getenv(\"OPENAI_API_BASE\"))\n",
    "\n",
    "project.deploy_function(fn, mock=True)"
   ]
  },
  {
   "cell_type": "code",
   "execution_count": null,
   "metadata": {},
   "outputs": [],
   "source": [
    "query = \"How tall are llamas?\"\n",
    "resp = fn.invoke(path=\"query\", body={\"query\" : query})\n",
    "resp[\"response\"]"
   ]
  },
  {
   "cell_type": "code",
   "execution_count": null,
   "metadata": {},
   "outputs": [],
   "source": [
    "query = \"What is 50 times the height of the tallest llama in the world?\"\n",
    "resp = fn.invoke(path=\"query\", body={\"query\" : query})\n",
    "resp[\"response\"]"
   ]
  },
  {
   "attachments": {},
   "cell_type": "markdown",
   "metadata": {},
   "source": [
    "### Gradio App"
   ]
  },
  {
   "cell_type": "code",
   "execution_count": null,
   "metadata": {},
   "outputs": [],
   "source": [
    "import gradio as gr"
   ]
  },
  {
   "cell_type": "code",
   "execution_count": null,
   "metadata": {},
   "outputs": [],
   "source": [
    "def query_llama(query: str) -> str:\n",
    "    resp = fn.invoke(path=\"/query\", body={\"query\" : query})\n",
    "    query_result = resp[\"response\"]\n",
    "    return query_result\n",
    "\n",
    "with gr.Blocks(analytics_enabled=False, theme=gr.themes.Soft()) as demo:\n",
    "    with gr.Row():\n",
    "        chatbot = gr.Chatbot()\n",
    "    with gr.Row():\n",
    "        with gr.Column(scale=6):\n",
    "            msg = gr.Textbox(label=\"Q:\", placeholder=\"Type a question and Enter\")\n",
    "        with gr.Column(scale=3):\n",
    "            clear = gr.Button(\"Clear\")\n",
    "\n",
    "    def respond(message, chat_history, index):\n",
    "        bot_message = query_llama(message)\n",
    "        chat_history.append((message, bot_message))\n",
    "        return \"\", chat_history\n",
    "\n",
    "    msg.submit(respond, [msg, chatbot], [msg, chatbot])\n",
    "    clear.click(lambda: None, None, chatbot, queue=False)\n",
    "\n",
    "demo.launch()"
   ]
  }
 ],
 "metadata": {
  "kernelspec": {
   "display_name": "llamagpt",
   "language": "python",
   "name": "python3"
  },
  "language_info": {
   "codemirror_mode": {
    "name": "ipython",
    "version": 3
   },
   "file_extension": ".py",
   "mimetype": "text/x-python",
   "name": "python",
   "nbconvert_exporter": "python",
   "pygments_lexer": "ipython3",
   "version": "3.9.16"
  }
 },
 "nbformat": 4,
 "nbformat_minor": 4
}
